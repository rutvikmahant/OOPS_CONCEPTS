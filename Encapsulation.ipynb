{
 "cells": [
  {
   "cell_type": "code",
   "execution_count": 1,
   "id": "14ed29bb-23b1-47ff-be94-6dd46f9aaf16",
   "metadata": {},
   "outputs": [],
   "source": [
    "class test:\n",
    "    \n",
    "    def __init__(self,a,b):\n",
    "        self.a=a\n",
    "        self.b=b"
   ]
  },
  {
   "cell_type": "code",
   "execution_count": 2,
   "id": "355f78f5-9be2-4f14-932f-7aa676ac495e",
   "metadata": {},
   "outputs": [],
   "source": [
    "t=test(34,45)"
   ]
  },
  {
   "cell_type": "code",
   "execution_count": 3,
   "id": "fb4fa147-1083-4dd5-b53b-fe8b7f09c65c",
   "metadata": {},
   "outputs": [],
   "source": [
    "t.a=436543654"
   ]
  },
  {
   "cell_type": "code",
   "execution_count": 4,
   "id": "43239436-0c58-470c-89b2-cbc87eb39f8d",
   "metadata": {},
   "outputs": [
    {
     "data": {
      "text/plain": [
       "436543654"
      ]
     },
     "execution_count": 4,
     "metadata": {},
     "output_type": "execute_result"
    }
   ],
   "source": [
    "t.a"
   ]
  },
  {
   "cell_type": "code",
   "execution_count": 63,
   "id": "67d79b37-1cb0-4bac-b070-471701c5e3a5",
   "metadata": {},
   "outputs": [],
   "source": [
    "class car:\n",
    "    def __init__(self , year, make , model ,speed):\n",
    "        self.__year = year\n",
    "        self.__make = make\n",
    "        self.__model = model\n",
    "        self.__speed = speed\n",
    "        \n",
    "    def set_speed(self,speed):\n",
    "        self.speed=0 if speed<0 else speed\n",
    "        \n",
    "    def get_speed(self):\n",
    "        return self.speed"
   ]
  },
  {
   "cell_type": "code",
   "execution_count": 64,
   "id": "6faa6c61-e14f-48f8-b669-8459b0a603ca",
   "metadata": {},
   "outputs": [],
   "source": [
    "c = car(2021,\"TATA\",\"SUMO\",12)"
   ]
  },
  {
   "cell_type": "code",
   "execution_count": 65,
   "id": "97ad9768-9e0d-40bb-a77c-215667d3e5d1",
   "metadata": {},
   "outputs": [
    {
     "ename": "AttributeError",
     "evalue": "'car' object has no attribute 'year'",
     "output_type": "error",
     "traceback": [
      "\u001b[0;31m---------------------------------------------------------------------------\u001b[0m",
      "\u001b[0;31mAttributeError\u001b[0m                            Traceback (most recent call last)",
      "Cell \u001b[0;32mIn[65], line 1\u001b[0m\n\u001b[0;32m----> 1\u001b[0m \u001b[43mc\u001b[49m\u001b[38;5;241;43m.\u001b[39;49m\u001b[43myear\u001b[49m\n",
      "\u001b[0;31mAttributeError\u001b[0m: 'car' object has no attribute 'year'"
     ]
    }
   ],
   "source": [
    "c.year"
   ]
  },
  {
   "cell_type": "code",
   "execution_count": 66,
   "id": "7360f693-dfd5-4243-a87a-6fc84a0733a5",
   "metadata": {},
   "outputs": [
    {
     "ename": "AttributeError",
     "evalue": "'car' object has no attribute '__year'",
     "output_type": "error",
     "traceback": [
      "\u001b[0;31m---------------------------------------------------------------------------\u001b[0m",
      "\u001b[0;31mAttributeError\u001b[0m                            Traceback (most recent call last)",
      "Cell \u001b[0;32mIn[66], line 1\u001b[0m\n\u001b[0;32m----> 1\u001b[0m \u001b[43mc\u001b[49m\u001b[38;5;241;43m.\u001b[39;49m\u001b[43m__year\u001b[49m\n",
      "\u001b[0;31mAttributeError\u001b[0m: 'car' object has no attribute '__year'"
     ]
    }
   ],
   "source": [
    "c.__year"
   ]
  },
  {
   "cell_type": "code",
   "execution_count": 67,
   "id": "bb703225-e5ce-4770-bb3d-b558aef97ce0",
   "metadata": {},
   "outputs": [
    {
     "data": {
      "text/plain": [
       "2021"
      ]
     },
     "execution_count": 67,
     "metadata": {},
     "output_type": "execute_result"
    }
   ],
   "source": [
    "c._car__year"
   ]
  },
  {
   "cell_type": "code",
   "execution_count": 68,
   "id": "82e6e1c1-7a56-4866-817a-825a6a8f3741",
   "metadata": {},
   "outputs": [],
   "source": [
    "c.set_speed(-3245)"
   ]
  },
  {
   "cell_type": "code",
   "execution_count": 69,
   "id": "6906e3f8-0498-41b1-a75e-dd3c52d9e8f7",
   "metadata": {},
   "outputs": [
    {
     "data": {
      "text/plain": [
       "0"
      ]
     },
     "execution_count": 69,
     "metadata": {},
     "output_type": "execute_result"
    }
   ],
   "source": [
    "c.get_speed()"
   ]
  },
  {
   "cell_type": "code",
   "execution_count": 70,
   "id": "1ea50ec8-e437-40af-b9fc-3c76dc5aee29",
   "metadata": {},
   "outputs": [],
   "source": [
    "c.set_speed(234)"
   ]
  },
  {
   "cell_type": "code",
   "execution_count": 71,
   "id": "8bb3ffc9-f5e2-4953-8b88-63d2f32ff8cc",
   "metadata": {},
   "outputs": [
    {
     "data": {
      "text/plain": [
       "234"
      ]
     },
     "execution_count": 71,
     "metadata": {},
     "output_type": "execute_result"
    }
   ],
   "source": [
    "c.get_speed()"
   ]
  },
  {
   "cell_type": "code",
   "execution_count": 72,
   "id": "3cd889a1-7928-414c-a4e0-6ecccc71e061",
   "metadata": {},
   "outputs": [],
   "source": [
    "class bank_account:\n",
    "    def __init__(self,balance):\n",
    "        self.__balance=balance\n",
    "        \n",
    "    def deposit(self,amount):\n",
    "        self.__balance = self.__balance+amount\n",
    "        \n",
    "    def withdraw(self,amount):\n",
    "        if self.__balance >= amount:\n",
    "            self.__balance-=amount\n",
    "            return True\n",
    "        else:\n",
    "            return False\n",
    "        \n",
    "    def get_balance(self):\n",
    "        return self.__balance"
   ]
  },
  {
   "cell_type": "code",
   "execution_count": 73,
   "id": "75986d9a-9990-4a23-9773-1fe94da653d0",
   "metadata": {},
   "outputs": [],
   "source": [
    "rutvik = bank_account(250000)"
   ]
  },
  {
   "cell_type": "code",
   "execution_count": 74,
   "id": "95989830-bb24-466e-bc6b-23ee724763b8",
   "metadata": {},
   "outputs": [
    {
     "data": {
      "text/plain": [
       "250000"
      ]
     },
     "execution_count": 74,
     "metadata": {},
     "output_type": "execute_result"
    }
   ],
   "source": [
    "rutvik.get_balance()"
   ]
  },
  {
   "cell_type": "code",
   "execution_count": 75,
   "id": "3040e7ff-72a5-4c3c-aada-5a025fb440cd",
   "metadata": {},
   "outputs": [],
   "source": [
    "rutvik.deposit(50000)"
   ]
  },
  {
   "cell_type": "code",
   "execution_count": 76,
   "id": "fee5d9b0-18e6-4dc4-96d2-c0de44ef7774",
   "metadata": {},
   "outputs": [
    {
     "data": {
      "text/plain": [
       "300000"
      ]
     },
     "execution_count": 76,
     "metadata": {},
     "output_type": "execute_result"
    }
   ],
   "source": [
    "rutvik.get_balance()"
   ]
  },
  {
   "cell_type": "code",
   "execution_count": 77,
   "id": "566221da-410a-49d2-88d7-5590b0ad45d8",
   "metadata": {},
   "outputs": [],
   "source": [
    "rutvik.deposit(25000)"
   ]
  },
  {
   "cell_type": "code",
   "execution_count": 78,
   "id": "0919d788-da43-4589-85fa-ec9e06ee4b49",
   "metadata": {},
   "outputs": [
    {
     "data": {
      "text/plain": [
       "325000"
      ]
     },
     "execution_count": 78,
     "metadata": {},
     "output_type": "execute_result"
    }
   ],
   "source": [
    "rutvik.get_balance()"
   ]
  },
  {
   "cell_type": "code",
   "execution_count": 79,
   "id": "76fc8b16-2744-49c6-bb30-0758bae58a67",
   "metadata": {},
   "outputs": [
    {
     "data": {
      "text/plain": [
       "False"
      ]
     },
     "execution_count": 79,
     "metadata": {},
     "output_type": "execute_result"
    }
   ],
   "source": [
    "rutvik.withdraw(350000)"
   ]
  },
  {
   "cell_type": "code",
   "execution_count": 80,
   "id": "7684c949-3eb8-4532-a246-ad04645caa01",
   "metadata": {},
   "outputs": [
    {
     "data": {
      "text/plain": [
       "True"
      ]
     },
     "execution_count": 80,
     "metadata": {},
     "output_type": "execute_result"
    }
   ],
   "source": [
    "rutvik.withdraw(100000)"
   ]
  },
  {
   "cell_type": "code",
   "execution_count": 81,
   "id": "edb9fc08-fb0f-4772-8445-19b490bc660b",
   "metadata": {},
   "outputs": [
    {
     "data": {
      "text/plain": [
       "225000"
      ]
     },
     "execution_count": 81,
     "metadata": {},
     "output_type": "execute_result"
    }
   ],
   "source": [
    "rutvik.get_balance()"
   ]
  },
  {
   "cell_type": "code",
   "execution_count": null,
   "id": "eb8bf7f8-c2be-45f1-ab84-ea2c75d3f1bd",
   "metadata": {},
   "outputs": [],
   "source": []
  }
 ],
 "metadata": {
  "kernelspec": {
   "display_name": "Python 3 (ipykernel)",
   "language": "python",
   "name": "python3"
  },
  "language_info": {
   "codemirror_mode": {
    "name": "ipython",
    "version": 3
   },
   "file_extension": ".py",
   "mimetype": "text/x-python",
   "name": "python",
   "nbconvert_exporter": "python",
   "pygments_lexer": "ipython3",
   "version": "3.10.8"
  }
 },
 "nbformat": 4,
 "nbformat_minor": 5
}
