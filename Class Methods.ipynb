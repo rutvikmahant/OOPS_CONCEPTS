{
 "cells": [
  {
   "cell_type": "code",
   "execution_count": 1,
   "id": "7d8ec64e-c2ab-4e33-8b53-ebe05bb2865c",
   "metadata": {},
   "outputs": [],
   "source": [
    "class pwskills:\n",
    "    \n",
    "    def __init__(self,name,email):\n",
    "        self.name=name\n",
    "        self.email=email\n",
    "        \n",
    "    def student_details(self):\n",
    "        print(self.name,self.email)"
   ]
  },
  {
   "cell_type": "code",
   "execution_count": 2,
   "id": "a3370d60-c806-4944-beef-b652e6ce249b",
   "metadata": {},
   "outputs": [],
   "source": [
    "pw = pwskills(\"rutvik\",\"rutvik@gmail.com\")"
   ]
  },
  {
   "cell_type": "code",
   "execution_count": 3,
   "id": "e7fb9917-f48b-4421-8fc2-b8c632133d07",
   "metadata": {},
   "outputs": [
    {
     "data": {
      "text/plain": [
       "'rutvik'"
      ]
     },
     "execution_count": 3,
     "metadata": {},
     "output_type": "execute_result"
    }
   ],
   "source": [
    "pw.name"
   ]
  },
  {
   "cell_type": "code",
   "execution_count": 4,
   "id": "811a6d76-7b8d-4f42-8089-a184af38b062",
   "metadata": {},
   "outputs": [
    {
     "data": {
      "text/plain": [
       "'rutvik@gmail.com'"
      ]
     },
     "execution_count": 4,
     "metadata": {},
     "output_type": "execute_result"
    }
   ],
   "source": [
    "pw.email"
   ]
  },
  {
   "cell_type": "code",
   "execution_count": 5,
   "id": "05857ade-1af1-42df-a66e-861063ac1f60",
   "metadata": {},
   "outputs": [
    {
     "name": "stdout",
     "output_type": "stream",
     "text": [
      "rutvik rutvik@gmail.com\n"
     ]
    }
   ],
   "source": [
    "pw.student_details()"
   ]
  },
  {
   "cell_type": "code",
   "execution_count": 18,
   "id": "7696ca6c-9947-4cdd-be8b-30aea10ba321",
   "metadata": {},
   "outputs": [],
   "source": [
    "class pwskills1:\n",
    "    \n",
    "    def __init__(self,name,email):\n",
    "        self.name=name\n",
    "        self.email=email\n",
    "        \n",
    "    @classmethod    \n",
    "    def details(cls ,name,email ):\n",
    "        return cls(name,email)\n",
    "        \n",
    "    def student_details(self):\n",
    "        print(self.name,self.email)"
   ]
  },
  {
   "cell_type": "code",
   "execution_count": 19,
   "id": "700c3f03-bd16-4c75-b2d0-652c8d2e74e0",
   "metadata": {},
   "outputs": [],
   "source": [
    "pw1=pwskills1.details(\"rutvik\",\"rutvik@gmail.com\")"
   ]
  },
  {
   "cell_type": "code",
   "execution_count": 20,
   "id": "007ffb87-c4b1-40c1-a768-a6ad5b978568",
   "metadata": {},
   "outputs": [
    {
     "data": {
      "text/plain": [
       "'rutvik'"
      ]
     },
     "execution_count": 20,
     "metadata": {},
     "output_type": "execute_result"
    }
   ],
   "source": [
    "pw1.name"
   ]
  },
  {
   "cell_type": "code",
   "execution_count": 21,
   "id": "4f91f7a0-58d5-483e-968d-21ea60b5ad0c",
   "metadata": {},
   "outputs": [
    {
     "data": {
      "text/plain": [
       "'rutvik@gmail.com'"
      ]
     },
     "execution_count": 21,
     "metadata": {},
     "output_type": "execute_result"
    }
   ],
   "source": [
    "pw1.email"
   ]
  },
  {
   "cell_type": "code",
   "execution_count": 22,
   "id": "e4d93b4b-278e-4c09-9630-4ea4cb8b8d83",
   "metadata": {},
   "outputs": [
    {
     "name": "stdout",
     "output_type": "stream",
     "text": [
      "rutvik rutvik@gmail.com\n"
     ]
    }
   ],
   "source": [
    "pw1.student_details()"
   ]
  },
  {
   "cell_type": "code",
   "execution_count": 33,
   "id": "4e9f8890-3259-45c0-8de6-4a5586611cc8",
   "metadata": {},
   "outputs": [],
   "source": [
    "class pwskills2:\n",
    "    \n",
    "    mobile_num=8765479809\n",
    "    \n",
    "    def __init__(self,name,email):\n",
    "        self.name=name\n",
    "        self.email=email\n",
    "        \n",
    "    @classmethod    \n",
    "    def change_number(cls,mobile):\n",
    "        pwskills.mobile_num = mobile\n",
    "        \n",
    "    @classmethod    \n",
    "    def details(cls ,name,email ):\n",
    "        return cls(name,email)\n",
    "        \n",
    "    def student_details(self):\n",
    "        print(self.name,self.email,pwskills.mobile_num)"
   ]
  },
  {
   "cell_type": "code",
   "execution_count": 34,
   "id": "86fc1f39-7eff-47eb-90c7-2c6f7b22ffc5",
   "metadata": {},
   "outputs": [],
   "source": [
    "pw=pwskills2.details(\"rohan\",\"rohan@gmail.com\")"
   ]
  },
  {
   "cell_type": "code",
   "execution_count": 35,
   "id": "d3e45d98-a3b4-492b-aff4-cdd397dda8be",
   "metadata": {},
   "outputs": [
    {
     "name": "stdout",
     "output_type": "stream",
     "text": [
      "rohan rohan@gmail.com 9325113420\n"
     ]
    }
   ],
   "source": [
    "pw.student_details()"
   ]
  },
  {
   "cell_type": "code",
   "execution_count": 30,
   "id": "bcca539f-b8cf-48d9-b60e-6d29d6515978",
   "metadata": {},
   "outputs": [],
   "source": [
    "pw_obj = pwskills(\"rutvik\",\"rutvik@gmil.com\")"
   ]
  },
  {
   "cell_type": "code",
   "execution_count": 31,
   "id": "52a48e2e-3537-4c76-bdd3-dc2a6b559623",
   "metadata": {},
   "outputs": [
    {
     "name": "stdout",
     "output_type": "stream",
     "text": [
      "rutvik rutvik@gmil.com\n"
     ]
    }
   ],
   "source": [
    "pw_obj.student_details()"
   ]
  },
  {
   "cell_type": "code",
   "execution_count": 26,
   "id": "8a0d3636-6635-47bf-950d-23573c7e7cc8",
   "metadata": {},
   "outputs": [
    {
     "data": {
      "text/plain": [
       "8765479809"
      ]
     },
     "execution_count": 26,
     "metadata": {},
     "output_type": "execute_result"
    }
   ],
   "source": [
    "pwskills2.mobile_num"
   ]
  },
  {
   "cell_type": "code",
   "execution_count": 27,
   "id": "fce2677d-5b31-491f-a207-4c046ffee61a",
   "metadata": {},
   "outputs": [],
   "source": [
    "pwskills2.change_number(9325113420)"
   ]
  },
  {
   "cell_type": "code",
   "execution_count": 28,
   "id": "3a9cc46b-6d67-4c5a-8c9d-d2e8fbfbdc37",
   "metadata": {},
   "outputs": [
    {
     "data": {
      "text/plain": [
       "9325113420"
      ]
     },
     "execution_count": 28,
     "metadata": {},
     "output_type": "execute_result"
    }
   ],
   "source": [
    "pwskills.mobile_num"
   ]
  },
  {
   "cell_type": "code",
   "execution_count": 36,
   "id": "cc70a9f2-c4bb-4571-999a-e5d8ba4b1399",
   "metadata": {},
   "outputs": [],
   "source": [
    "class pwskills3:\n",
    "    \n",
    "    mobile_num=8765479809\n",
    "    \n",
    "    def __init__(self,name,email):\n",
    "        self.name=name\n",
    "        self.email=email\n",
    "        \n",
    "    @classmethod    \n",
    "    def change_number(cls,mobile):\n",
    "        pwskills.mobile_num = mobile\n",
    "        \n",
    "    @classmethod    \n",
    "    def details(cls ,name,email ):\n",
    "        return cls(name,email)\n",
    "        \n",
    "    def student_details(self):\n",
    "        print(self.name,self.email,pwskills.mobile_num)"
   ]
  },
  {
   "cell_type": "code",
   "execution_count": 37,
   "id": "e7ec93c6-3dc8-459b-ad71-4bdae05dcab9",
   "metadata": {},
   "outputs": [],
   "source": [
    "def course_details(cls,course_name):\n",
    "    print(\"course name is\",course_name)"
   ]
  },
  {
   "cell_type": "code",
   "execution_count": 38,
   "id": "bfad8dcf-9010-43f3-8a9b-38f1ea33fab2",
   "metadata": {},
   "outputs": [],
   "source": [
    "pwskills3.course_details = classmethod(course_details)"
   ]
  },
  {
   "cell_type": "code",
   "execution_count": 39,
   "id": "c36ecb40-e756-43c2-923e-e932648bc5b1",
   "metadata": {},
   "outputs": [
    {
     "name": "stdout",
     "output_type": "stream",
     "text": [
      "course name is Data Science Masters\n"
     ]
    }
   ],
   "source": [
    "pwskills3.course_details(\"Data Science Masters\")"
   ]
  },
  {
   "cell_type": "code",
   "execution_count": 40,
   "id": "c09166b2-a58a-4e48-9c11-5a9f5c324e5d",
   "metadata": {},
   "outputs": [],
   "source": [
    "def mentor(cls,list_of_mentor):\n",
    "    print(list_of_mentor)"
   ]
  },
  {
   "cell_type": "code",
   "execution_count": 41,
   "id": "02b1da7d-a033-4173-8877-0a12ff000db0",
   "metadata": {},
   "outputs": [],
   "source": [
    "pwskills3.mentor = classmethod(mentor)"
   ]
  },
  {
   "cell_type": "code",
   "execution_count": 43,
   "id": "1b448a34-ba57-443f-998d-b665c852d993",
   "metadata": {},
   "outputs": [
    {
     "name": "stdout",
     "output_type": "stream",
     "text": [
      "['rutvik', 'krish', 'sudh']\n"
     ]
    }
   ],
   "source": [
    "pwskills3.mentor([\"rutvik\",\"krish\",\"sudh\"])"
   ]
  },
  {
   "cell_type": "code",
   "execution_count": 45,
   "id": "13c006a5-1a42-40e8-b35a-4ad65f1be4e2",
   "metadata": {},
   "outputs": [],
   "source": [
    "class pwskills4:\n",
    "    \n",
    "    mobile_num=8765479809\n",
    "    \n",
    "    def __init__(self,name,email):\n",
    "        self.name=name\n",
    "        self.email=email\n",
    "        \n",
    "    @classmethod    \n",
    "    def change_number(cls,mobile):\n",
    "        pwskills.mobile_num = mobile\n",
    "        \n",
    "    @classmethod    \n",
    "    def details(cls ,name,email ):\n",
    "        return cls(name,email)\n",
    "        \n",
    "    def student_details(self):\n",
    "        print(self.name,self.email,pwskills.mobile_num)"
   ]
  },
  {
   "cell_type": "code",
   "execution_count": 46,
   "id": "28ce101b-b1a2-4207-b360-49978b9477a2",
   "metadata": {},
   "outputs": [],
   "source": [
    "del pwskills4.change_number"
   ]
  },
  {
   "cell_type": "code",
   "execution_count": 48,
   "id": "33ae80da-d2c2-49e9-9772-a5984fc06c50",
   "metadata": {},
   "outputs": [],
   "source": [
    "delattr(pwskills4 , \"details\")"
   ]
  },
  {
   "cell_type": "code",
   "execution_count": 51,
   "id": "0d867ec1-00bb-486d-b206-b4691ff9ddda",
   "metadata": {},
   "outputs": [],
   "source": [
    "delattr(pwskills4,\"student_details\")"
   ]
  },
  {
   "cell_type": "code",
   "execution_count": 52,
   "id": "8b8d46ef-dfd0-4b65-af32-57344f6b380e",
   "metadata": {},
   "outputs": [],
   "source": [
    "delattr(pwskills4,\"mobile_num\")"
   ]
  },
  {
   "cell_type": "code",
   "execution_count": 53,
   "id": "382071fb-ee3a-40bf-8f60-e1aeb0fb70b8",
   "metadata": {},
   "outputs": [
    {
     "ename": "AttributeError",
     "evalue": "type object 'pwskills4' has no attribute 'change_number'",
     "output_type": "error",
     "traceback": [
      "\u001b[0;31m---------------------------------------------------------------------------\u001b[0m",
      "\u001b[0;31mAttributeError\u001b[0m                            Traceback (most recent call last)",
      "Cell \u001b[0;32mIn[53], line 1\u001b[0m\n\u001b[0;32m----> 1\u001b[0m \u001b[43mpwskills4\u001b[49m\u001b[38;5;241;43m.\u001b[39;49m\u001b[43mchange_number\u001b[49m(\u001b[38;5;241m67536544\u001b[39m)\n",
      "\u001b[0;31mAttributeError\u001b[0m: type object 'pwskills4' has no attribute 'change_number'"
     ]
    }
   ],
   "source": [
    "pwskills4.change_number(67536544)"
   ]
  },
  {
   "cell_type": "code",
   "execution_count": null,
   "id": "9c13267d-efde-4412-aac3-28f77c2d784f",
   "metadata": {},
   "outputs": [],
   "source": []
  }
 ],
 "metadata": {
  "kernelspec": {
   "display_name": "Python 3 (ipykernel)",
   "language": "python",
   "name": "python3"
  },
  "language_info": {
   "codemirror_mode": {
    "name": "ipython",
    "version": 3
   },
   "file_extension": ".py",
   "mimetype": "text/x-python",
   "name": "python",
   "nbconvert_exporter": "python",
   "pygments_lexer": "ipython3",
   "version": "3.10.8"
  }
 },
 "nbformat": 4,
 "nbformat_minor": 5
}
