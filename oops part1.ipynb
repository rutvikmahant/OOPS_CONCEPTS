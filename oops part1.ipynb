{
 "cells": [
  {
   "cell_type": "code",
   "execution_count": 67,
   "id": "d3c606cf-673c-4e5c-86c7-4b5e55e81c37",
   "metadata": {},
   "outputs": [],
   "source": [
    "#\"Oops stands for Object-Oriented Programming System"
   ]
  },
  {
   "cell_type": "code",
   "execution_count": 68,
   "id": "394773a5-52dc-48d2-8558-8c871ef8a232",
   "metadata": {},
   "outputs": [],
   "source": [
    "a = 1"
   ]
  },
  {
   "cell_type": "code",
   "execution_count": 69,
   "id": "0859fbe7-ca39-441e-87e5-54746e41c98d",
   "metadata": {},
   "outputs": [
    {
     "name": "stdout",
     "output_type": "stream",
     "text": [
      "<class 'int'>\n"
     ]
    }
   ],
   "source": [
    "print(type(a))"
   ]
  },
  {
   "cell_type": "code",
   "execution_count": 70,
   "id": "dc210d3b-d09e-4c0a-8d83-9c7b238a9b75",
   "metadata": {},
   "outputs": [
    {
     "name": "stdout",
     "output_type": "stream",
     "text": [
      "<class 'str'>\n"
     ]
    }
   ],
   "source": [
    "print(type(\"pwskills\"))"
   ]
  },
  {
   "cell_type": "code",
   "execution_count": 71,
   "id": "14bc57fa-d81a-4ac0-9f2c-3be734983d2e",
   "metadata": {},
   "outputs": [],
   "source": [
    "class test :\n",
    "    pass"
   ]
  },
  {
   "cell_type": "code",
   "execution_count": 72,
   "id": "83977c23-5133-4deb-9155-1fa1ef5acec4",
   "metadata": {},
   "outputs": [],
   "source": [
    "\n",
    "a = test()"
   ]
  },
  {
   "cell_type": "code",
   "execution_count": 73,
   "id": "397b69a0-ffd3-4345-9a37-9f19f2d4d8c0",
   "metadata": {},
   "outputs": [
    {
     "data": {
      "text/plain": [
       "__main__.test"
      ]
     },
     "execution_count": 73,
     "metadata": {},
     "output_type": "execute_result"
    }
   ],
   "source": [
    "type(a)"
   ]
  },
  {
   "cell_type": "code",
   "execution_count": 74,
   "id": "6a844593-34be-4219-8a4e-546025f829d0",
   "metadata": {},
   "outputs": [
    {
     "name": "stdout",
     "output_type": "stream",
     "text": [
      "<class '__main__.test'>\n"
     ]
    }
   ],
   "source": [
    "print(type(a))"
   ]
  },
  {
   "cell_type": "code",
   "execution_count": 75,
   "id": "8a4f8a13-9c0a-4801-b786-1dac211d9f1c",
   "metadata": {},
   "outputs": [],
   "source": [
    "class pwskills:\n",
    "    \n",
    "    def welcome_msg(self):\n",
    "        print(\"Welcome to pwskills\")"
   ]
  },
  {
   "cell_type": "code",
   "execution_count": 76,
   "id": "fcc72310-9954-43b0-8073-31bb9f0828ca",
   "metadata": {},
   "outputs": [],
   "source": [
    "rohan = pwskills()"
   ]
  },
  {
   "cell_type": "code",
   "execution_count": 77,
   "id": "15c693e5-55ce-4399-9c36-2b1b6f3af69d",
   "metadata": {},
   "outputs": [
    {
     "name": "stdout",
     "output_type": "stream",
     "text": [
      "<class '__main__.pwskills'>\n"
     ]
    }
   ],
   "source": [
    "print(type(rohan))"
   ]
  },
  {
   "cell_type": "code",
   "execution_count": 78,
   "id": "939b358c-2d5f-4021-ba2c-179d0f7011be",
   "metadata": {},
   "outputs": [
    {
     "name": "stdout",
     "output_type": "stream",
     "text": [
      "Welcome to pwskills\n"
     ]
    }
   ],
   "source": [
    "rohan.welcome_msg()"
   ]
  },
  {
   "cell_type": "code",
   "execution_count": 79,
   "id": "a93e588e-9b1d-4e6e-96d4-39d86a5a3e2c",
   "metadata": {},
   "outputs": [],
   "source": [
    "gaurav=pwskills()"
   ]
  },
  {
   "cell_type": "code",
   "execution_count": 80,
   "id": "2049161b-026e-47f4-ae91-45655940a50b",
   "metadata": {},
   "outputs": [
    {
     "name": "stdout",
     "output_type": "stream",
     "text": [
      "Welcome to pwskills\n"
     ]
    }
   ],
   "source": [
    "gaurav.welcome_msg()"
   ]
  },
  {
   "cell_type": "code",
   "execution_count": 81,
   "id": "5df2610d-8855-449d-96c2-e600f3ea33a8",
   "metadata": {},
   "outputs": [],
   "source": [
    "class pwskills1:\n",
    "    \n",
    "    def __init__(self,phone_number, email_id, student_id):\n",
    "        self.phone_number=phone_number\n",
    "        self.email_id=email_id\n",
    "        self.student_id=student_id\n",
    "        \n",
    "    def return_student_details(self):\n",
    "        return self.student_id, self.phone_number, self.email_id\n",
    "    "
   ]
  },
  {
   "cell_type": "code",
   "execution_count": 82,
   "id": "2d4a8c08-e67a-4e4b-b25b-4e8d460021be",
   "metadata": {},
   "outputs": [
    {
     "ename": "TypeError",
     "evalue": "pwskills1.__init__() missing 3 required positional arguments: 'phone_number', 'email_id', and 'student_id'",
     "output_type": "error",
     "traceback": [
      "\u001b[0;31m---------------------------------------------------------------------------\u001b[0m",
      "\u001b[0;31mTypeError\u001b[0m                                 Traceback (most recent call last)",
      "Cell \u001b[0;32mIn[82], line 1\u001b[0m\n\u001b[0;32m----> 1\u001b[0m rohan\u001b[38;5;241m=\u001b[39m\u001b[43mpwskills1\u001b[49m\u001b[43m(\u001b[49m\u001b[43m)\u001b[49m\n",
      "\u001b[0;31mTypeError\u001b[0m: pwskills1.__init__() missing 3 required positional arguments: 'phone_number', 'email_id', and 'student_id'"
     ]
    }
   ],
   "source": [
    "rohan=pwskills1()"
   ]
  },
  {
   "cell_type": "code",
   "execution_count": 83,
   "id": "8773a132-8f6b-4d45-9347-7bb1efe586ab",
   "metadata": {},
   "outputs": [],
   "source": [
    "rohan = pwskills1 (122213121,\"rohan@gmail.com\",753565765645)"
   ]
  },
  {
   "cell_type": "code",
   "execution_count": 84,
   "id": "35f179a8-a40b-49af-8506-47f8ae8291d7",
   "metadata": {},
   "outputs": [
    {
     "data": {
      "text/plain": [
       "122213121"
      ]
     },
     "execution_count": 84,
     "metadata": {},
     "output_type": "execute_result"
    }
   ],
   "source": [
    "rohan.phone_number"
   ]
  },
  {
   "cell_type": "code",
   "execution_count": 85,
   "id": "4a1dc18e-778b-4377-86dc-144e5ed2f245",
   "metadata": {},
   "outputs": [
    {
     "data": {
      "text/plain": [
       "'rohan@gmail.com'"
      ]
     },
     "execution_count": 85,
     "metadata": {},
     "output_type": "execute_result"
    }
   ],
   "source": [
    "rohan.email_id"
   ]
  },
  {
   "cell_type": "code",
   "execution_count": 86,
   "id": "7f2b3dc1-1396-49cc-948b-f52b5b8f0fb4",
   "metadata": {},
   "outputs": [
    {
     "data": {
      "text/plain": [
       "(753565765645, 122213121, 'rohan@gmail.com')"
      ]
     },
     "execution_count": 86,
     "metadata": {},
     "output_type": "execute_result"
    }
   ],
   "source": [
    "rohan.return_student_details()"
   ]
  },
  {
   "cell_type": "code",
   "execution_count": 87,
   "id": "19421f48-0be7-4e97-a38d-4b724bb04abd",
   "metadata": {},
   "outputs": [],
   "source": [
    "gaurav = pwskills1(656757465675,\"gaurav@gmail,com\",102)"
   ]
  },
  {
   "cell_type": "code",
   "execution_count": 88,
   "id": "82543e84-b576-4d14-b749-44be1338d70d",
   "metadata": {},
   "outputs": [
    {
     "data": {
      "text/plain": [
       "(102, 656757465675, 'gaurav@gmail,com')"
      ]
     },
     "execution_count": 88,
     "metadata": {},
     "output_type": "execute_result"
    }
   ],
   "source": [
    "gaurav.return_student_details()"
   ]
  },
  {
   "cell_type": "code",
   "execution_count": 89,
   "id": "fc4d6352-3cc9-4207-9897-cd63d053c2c3",
   "metadata": {},
   "outputs": [],
   "source": [
    "class pwskills2:\n",
    "    \n",
    "    def __init__(self,phone_number, email_id, student_id):\n",
    "        self.phone_number1=phone_number\n",
    "        self.email_id1=email_id\n",
    "        self.student_id1=student_id\n",
    "        \n",
    "    def return_student_details(self):\n",
    "        return self.student_id1, self.phone_number1, self.email_id1"
   ]
  },
  {
   "cell_type": "code",
   "execution_count": 90,
   "id": "7c92dd01-a04c-4d7b-af1f-445b3c4bb2d6",
   "metadata": {},
   "outputs": [],
   "source": [
    "rutvik = pwskills2(5645674567,\"rutvik@gmail.com\",103)"
   ]
  },
  {
   "cell_type": "code",
   "execution_count": 91,
   "id": "edae1a81-2fa9-4f98-8288-67a36cd5b0b9",
   "metadata": {},
   "outputs": [
    {
     "data": {
      "text/plain": [
       "<__main__.pwskills2 at 0x7f194c75a740>"
      ]
     },
     "execution_count": 91,
     "metadata": {},
     "output_type": "execute_result"
    }
   ],
   "source": [
    "rutvik"
   ]
  },
  {
   "cell_type": "code",
   "execution_count": 92,
   "id": "409fa585-f652-407b-b96a-bf453910f4a7",
   "metadata": {},
   "outputs": [
    {
     "data": {
      "text/plain": [
       "5645674567"
      ]
     },
     "execution_count": 92,
     "metadata": {},
     "output_type": "execute_result"
    }
   ],
   "source": [
    "rutvik.phone_number1"
   ]
  },
  {
   "cell_type": "code",
   "execution_count": 93,
   "id": "8f4e96b0-9587-43ea-ba84-21f3c28e089f",
   "metadata": {},
   "outputs": [
    {
     "data": {
      "text/plain": [
       "'rutvik@gmail.com'"
      ]
     },
     "execution_count": 93,
     "metadata": {},
     "output_type": "execute_result"
    }
   ],
   "source": [
    "rutvik.email_id1"
   ]
  },
  {
   "cell_type": "code",
   "execution_count": 94,
   "id": "83f4ac63-be76-461c-a1da-17d8ee3713ff",
   "metadata": {},
   "outputs": [
    {
     "data": {
      "text/plain": [
       "(103, 5645674567, 'rutvik@gmail.com')"
      ]
     },
     "execution_count": 94,
     "metadata": {},
     "output_type": "execute_result"
    }
   ],
   "source": [
    "rutvik.return_student_details()"
   ]
  },
  {
   "cell_type": "code",
   "execution_count": 95,
   "id": "12130973-c73e-4c36-95eb-98eee92c9eab",
   "metadata": {},
   "outputs": [],
   "source": [
    "class pwskills2:\n",
    "    \n",
    "    def __init__(rutvik,phone_number, email_id, student_id):\n",
    "        rutvik.phone_number1=phone_number\n",
    "        rutvik.email_id1=email_id\n",
    "        rutvik.student_id1=student_id\n",
    "        \n",
    "    def return_student_details(rutvik):\n",
    "        return rutvik.student_id1, rutvik.phone_number1, rutvik.email_id1"
   ]
  },
  {
   "cell_type": "code",
   "execution_count": 96,
   "id": "5e8e1e39-b655-4acb-bb55-d1e1ff5d08d5",
   "metadata": {},
   "outputs": [],
   "source": [
    "rohan=pwskills2(765444,\"rohan@gmail.com\",54353)"
   ]
  },
  {
   "cell_type": "code",
   "execution_count": 97,
   "id": "bb4fc5f7-69a2-448a-aa93-89ec49c8ab14",
   "metadata": {},
   "outputs": [
    {
     "data": {
      "text/plain": [
       "765444"
      ]
     },
     "execution_count": 97,
     "metadata": {},
     "output_type": "execute_result"
    }
   ],
   "source": [
    "rohan.phone_number1"
   ]
  },
  {
   "cell_type": "code",
   "execution_count": null,
   "id": "94fb27db-fa50-46de-9175-a90a892018f3",
   "metadata": {},
   "outputs": [],
   "source": []
  }
 ],
 "metadata": {
  "kernelspec": {
   "display_name": "Python 3 (ipykernel)",
   "language": "python",
   "name": "python3"
  },
  "language_info": {
   "codemirror_mode": {
    "name": "ipython",
    "version": 3
   },
   "file_extension": ".py",
   "mimetype": "text/x-python",
   "name": "python",
   "nbconvert_exporter": "python",
   "pygments_lexer": "ipython3",
   "version": "3.10.8"
  }
 },
 "nbformat": 4,
 "nbformat_minor": 5
}
