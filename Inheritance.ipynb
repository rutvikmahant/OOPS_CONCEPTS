{
 "cells": [
  {
   "cell_type": "code",
   "execution_count": 2,
   "id": "866c09f9-740a-4c37-b51a-38d5c76034b6",
   "metadata": {},
   "outputs": [],
   "source": [
    "class test:\n",
    "    \n",
    "    def test_meth(self):\n",
    "        return \"This is my first class\""
   ]
  },
  {
   "cell_type": "code",
   "execution_count": 3,
   "id": "600d6f67-99d6-4b51-ad9c-289f1d8a3c7d",
   "metadata": {},
   "outputs": [],
   "source": [
    "class child_test(test):\n",
    "    pass"
   ]
  },
  {
   "cell_type": "code",
   "execution_count": 4,
   "id": "6e723ec3-bf65-4027-bcf7-438df8308ebd",
   "metadata": {},
   "outputs": [],
   "source": [
    "child_test_obj = child_test()"
   ]
  },
  {
   "cell_type": "code",
   "execution_count": 5,
   "id": "e1c54a1d-85fa-421c-8bd9-31e262640049",
   "metadata": {},
   "outputs": [
    {
     "data": {
      "text/plain": [
       "'This is my first class'"
      ]
     },
     "execution_count": 5,
     "metadata": {},
     "output_type": "execute_result"
    }
   ],
   "source": [
    "child_test_obj.test_meth()"
   ]
  },
  {
   "cell_type": "code",
   "execution_count": 6,
   "id": "dcfd87e5-e6c0-4e73-8cb4-612c6f872a45",
   "metadata": {},
   "outputs": [],
   "source": [
    "#Multilabel Inheritance"
   ]
  },
  {
   "cell_type": "code",
   "execution_count": 7,
   "id": "f43f3f67-7301-4a9b-98db-de8f9ad39e4b",
   "metadata": {},
   "outputs": [],
   "source": [
    "class class1:\n",
    "    \n",
    "    def test_class1(self):\n",
    "        return\"this is a methof from class1\""
   ]
  },
  {
   "cell_type": "code",
   "execution_count": 9,
   "id": "4980febe-5ff6-400d-85c1-1f5adb643a38",
   "metadata": {},
   "outputs": [],
   "source": [
    "class class2(class1):\n",
    "    \n",
    "    def test_class2(self):\n",
    "        return\"this is a method from class2\""
   ]
  },
  {
   "cell_type": "code",
   "execution_count": 10,
   "id": "db6fd340-dafb-4d43-97da-d05903037fae",
   "metadata": {},
   "outputs": [],
   "source": [
    "class class3(class2):\n",
    "    pass"
   ]
  },
  {
   "cell_type": "code",
   "execution_count": 11,
   "id": "5371322d-3e0a-40ed-985a-7d26c9bcbbba",
   "metadata": {},
   "outputs": [],
   "source": [
    "obj_class3 = class3()"
   ]
  },
  {
   "cell_type": "code",
   "execution_count": 12,
   "id": "06e1520f-7263-46ff-b4ab-1b81d4b9dc8a",
   "metadata": {},
   "outputs": [
    {
     "data": {
      "text/plain": [
       "'this is a method from class2'"
      ]
     },
     "execution_count": 12,
     "metadata": {},
     "output_type": "execute_result"
    }
   ],
   "source": [
    "obj_class3.test_class2()"
   ]
  },
  {
   "cell_type": "code",
   "execution_count": 13,
   "id": "18ab9712-b4f1-4959-8e5a-9cf4aa410207",
   "metadata": {},
   "outputs": [],
   "source": [
    "#Multiple Inheritance"
   ]
  },
  {
   "cell_type": "code",
   "execution_count": 14,
   "id": "75b7d1fa-394d-4f19-9c02-5a0575767d02",
   "metadata": {},
   "outputs": [],
   "source": [
    "class class1:\n",
    "    \n",
    "    def test_class1(self):\n",
    "        return \"this is class1\""
   ]
  },
  {
   "cell_type": "code",
   "execution_count": 16,
   "id": "74d69414-8dee-4de7-8776-6f80c4cdc2d6",
   "metadata": {},
   "outputs": [],
   "source": [
    "class class2:\n",
    "    \n",
    "    def test_class2(self):\n",
    "        return\"this is class2\""
   ]
  },
  {
   "cell_type": "code",
   "execution_count": 17,
   "id": "78776f31-ef61-4b1b-ba74-1ccdee34ccfa",
   "metadata": {},
   "outputs": [],
   "source": [
    "class class3(class1 , class2):\n",
    "    pass"
   ]
  },
  {
   "cell_type": "code",
   "execution_count": 18,
   "id": "e37a995e-cfe7-444f-8e0c-72f0caee846e",
   "metadata": {},
   "outputs": [],
   "source": [
    "obj_class3 = class3()"
   ]
  },
  {
   "cell_type": "code",
   "execution_count": 19,
   "id": "e1a316dc-28de-477b-95b2-096d8a340638",
   "metadata": {},
   "outputs": [
    {
     "data": {
      "text/plain": [
       "'this is class2'"
      ]
     },
     "execution_count": 19,
     "metadata": {},
     "output_type": "execute_result"
    }
   ],
   "source": [
    "obj_class3.test_class2()"
   ]
  },
  {
   "cell_type": "code",
   "execution_count": 20,
   "id": "0dbcd3d6-92ad-4a07-92d5-b85f1fd168ab",
   "metadata": {},
   "outputs": [
    {
     "data": {
      "text/plain": [
       "'this is class1'"
      ]
     },
     "execution_count": 20,
     "metadata": {},
     "output_type": "execute_result"
    }
   ],
   "source": [
    "obj_class3.test_class1()"
   ]
  },
  {
   "cell_type": "code",
   "execution_count": null,
   "id": "a14a54db-1616-4693-9b25-a9c10ea5dbfb",
   "metadata": {},
   "outputs": [],
   "source": []
  }
 ],
 "metadata": {
  "kernelspec": {
   "display_name": "Python 3 (ipykernel)",
   "language": "python",
   "name": "python3"
  },
  "language_info": {
   "codemirror_mode": {
    "name": "ipython",
    "version": 3
   },
   "file_extension": ".py",
   "mimetype": "text/x-python",
   "name": "python",
   "nbconvert_exporter": "python",
   "pygments_lexer": "ipython3",
   "version": "3.10.8"
  }
 },
 "nbformat": 4,
 "nbformat_minor": 5
}
