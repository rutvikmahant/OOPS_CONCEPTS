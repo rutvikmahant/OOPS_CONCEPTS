{
 "cells": [
  {
   "cell_type": "code",
   "execution_count": 6,
   "id": "7f9360f0-080f-46d5-8704-5f0e6da919bb",
   "metadata": {},
   "outputs": [],
   "source": [
    "import abc\n",
    "class pwskills:\n",
    "    @abc.abstractmethod\n",
    "    def students_details(self):\n",
    "        pass\n",
    "    @abc.abstractmethod\n",
    "    def students_assignment(self):\n",
    "        pass\n",
    "    @abc.abstractmethod\n",
    "    def student_marks(self):\n",
    "        pass\n",
    "    "
   ]
  },
  {
   "cell_type": "code",
   "execution_count": 8,
   "id": "c0f97529-1329-43f6-b20a-0cbce563b2d9",
   "metadata": {},
   "outputs": [],
   "source": [
    "class student_details(pwskills):\n",
    "    def student_details(self):\n",
    "        return \"this is a method for taking student details\"\n",
    "    def student_assignments(self):\n",
    "        return \"this is a method for assignment details\""
   ]
  },
  {
   "cell_type": "code",
   "execution_count": 9,
   "id": "7533ee3d-3b1e-4735-bf4e-2ce284e79b83",
   "metadata": {},
   "outputs": [],
   "source": [
    "class data_science_masters(pwskills):\n",
    "    \n",
    "    def student_details(self):\n",
    "        return\"this will return a student details for data science masters\"\n",
    "    def student_assignments(self):\n",
    "        return\"this will return a student assignment for data science masters\""
   ]
  },
  {
   "cell_type": "code",
   "execution_count": 12,
   "id": "6be46dac-ed24-455a-a156-09736eb5d542",
   "metadata": {},
   "outputs": [
    {
     "data": {
      "text/plain": [
       "'this will return a student details for data science masters'"
      ]
     },
     "execution_count": 12,
     "metadata": {},
     "output_type": "execute_result"
    }
   ],
   "source": [
    "dsm = data_science_masters()\n",
    "dsm.student_details()"
   ]
  },
  {
   "cell_type": "code",
   "execution_count": 13,
   "id": "9e910737-91b9-467f-b4be-9b5bc4ebc08c",
   "metadata": {},
   "outputs": [
    {
     "data": {
      "text/plain": [
       "'this is a method for taking student details'"
      ]
     },
     "execution_count": 13,
     "metadata": {},
     "output_type": "execute_result"
    }
   ],
   "source": [
    "sd=student_details()\n",
    "sd.student_details()"
   ]
  },
  {
   "cell_type": "code",
   "execution_count": null,
   "id": "93a21758-1fb5-4776-8738-018bfeee0271",
   "metadata": {},
   "outputs": [],
   "source": []
  }
 ],
 "metadata": {
  "kernelspec": {
   "display_name": "Python 3 (ipykernel)",
   "language": "python",
   "name": "python3"
  },
  "language_info": {
   "codemirror_mode": {
    "name": "ipython",
    "version": 3
   },
   "file_extension": ".py",
   "mimetype": "text/x-python",
   "name": "python",
   "nbconvert_exporter": "python",
   "pygments_lexer": "ipython3",
   "version": "3.10.8"
  }
 },
 "nbformat": 4,
 "nbformat_minor": 5
}
